{
 "cells": [
  {
   "cell_type": "code",
   "execution_count": 1,
   "metadata": {},
   "outputs": [],
   "source": [
    "import pandas as pd\n",
    "import sys\n",
    "import os\n",
    "\n",
    "current_dir = os.path.abspath('')\n",
    "parent_dir = os.path.join(current_dir, '..', 'functions')\n",
    "sys.path.append(parent_dir)\n"
   ]
  },
  {
   "cell_type": "markdown",
   "metadata": {},
   "source": [
    "IMPORT DATA"
   ]
  },
  {
   "cell_type": "code",
   "execution_count": 2,
   "metadata": {},
   "outputs": [
    {
     "data": {
      "text/html": [
       "<div>\n",
       "<style scoped>\n",
       "    .dataframe tbody tr th:only-of-type {\n",
       "        vertical-align: middle;\n",
       "    }\n",
       "\n",
       "    .dataframe tbody tr th {\n",
       "        vertical-align: top;\n",
       "    }\n",
       "\n",
       "    .dataframe thead th {\n",
       "        text-align: right;\n",
       "    }\n",
       "</style>\n",
       "<table border=\"1\" class=\"dataframe\">\n",
       "  <thead>\n",
       "    <tr style=\"text-align: right;\">\n",
       "      <th></th>\n",
       "      <th>author_id</th>\n",
       "      <th>author_name</th>\n",
       "    </tr>\n",
       "  </thead>\n",
       "  <tbody>\n",
       "    <tr>\n",
       "      <th>0</th>\n",
       "      <td>9561</td>\n",
       "      <td>NaN</td>\n",
       "    </tr>\n",
       "    <tr>\n",
       "      <th>1</th>\n",
       "      <td>451324</td>\n",
       "      <td># House Press</td>\n",
       "    </tr>\n",
       "    <tr>\n",
       "      <th>2</th>\n",
       "      <td>454250</td>\n",
       "      <td># Petal Press</td>\n",
       "    </tr>\n",
       "    <tr>\n",
       "      <th>3</th>\n",
       "      <td>249724</td>\n",
       "      <td>#GARCIA MIGUELE</td>\n",
       "    </tr>\n",
       "    <tr>\n",
       "      <th>4</th>\n",
       "      <td>287710</td>\n",
       "      <td>#Worldlcass Media</td>\n",
       "    </tr>\n",
       "    <tr>\n",
       "      <th>...</th>\n",
       "      <td>...</td>\n",
       "      <td>...</td>\n",
       "    </tr>\n",
       "    <tr>\n",
       "      <th>654016</th>\n",
       "      <td>237785</td>\n",
       "      <td>丘宏義</td>\n",
       "    </tr>\n",
       "    <tr>\n",
       "      <th>654017</th>\n",
       "      <td>77701</td>\n",
       "      <td>國立彰化師範大學</td>\n",
       "    </tr>\n",
       "    <tr>\n",
       "      <th>654018</th>\n",
       "      <td>410709</td>\n",
       "      <td>張成秋</td>\n",
       "    </tr>\n",
       "    <tr>\n",
       "      <th>654019</th>\n",
       "      <td>618322</td>\n",
       "      <td>灰雁</td>\n",
       "    </tr>\n",
       "    <tr>\n",
       "      <th>654020</th>\n",
       "      <td>373580</td>\n",
       "      <td>菊子</td>\n",
       "    </tr>\n",
       "  </tbody>\n",
       "</table>\n",
       "<p>654021 rows × 2 columns</p>\n",
       "</div>"
      ],
      "text/plain": [
       "        author_id        author_name\n",
       "0            9561                NaN\n",
       "1          451324      # House Press\n",
       "2          454250      # Petal Press\n",
       "3          249724    #GARCIA MIGUELE\n",
       "4          287710  #Worldlcass Media\n",
       "...           ...                ...\n",
       "654016     237785                丘宏義\n",
       "654017      77701           國立彰化師範大學\n",
       "654018     410709                張成秋\n",
       "654019     618322                 灰雁\n",
       "654020     373580                 菊子\n",
       "\n",
       "[654021 rows x 2 columns]"
      ]
     },
     "execution_count": 2,
     "metadata": {},
     "output_type": "execute_result"
    }
   ],
   "source": [
    "path = \"../../dataset/origin/authors.csv\"\n",
    "df = pd.read_csv(path)\n",
    "df"
   ]
  },
  {
   "cell_type": "markdown",
   "metadata": {},
   "source": [
    "DROP DUPLICATES"
   ]
  },
  {
   "cell_type": "code",
   "execution_count": 3,
   "metadata": {},
   "outputs": [
    {
     "data": {
      "text/plain": [
       "0"
      ]
     },
     "execution_count": 3,
     "metadata": {},
     "output_type": "execute_result"
    }
   ],
   "source": [
    "#import number_of_duplicates\n",
    "from duplicates_utils import number_of_duplicates\n",
    "\n",
    "number_of_duplicates(df)"
   ]
  },
  {
   "cell_type": "markdown",
   "metadata": {},
   "source": [
    "CLEAN DATA"
   ]
  },
  {
   "cell_type": "code",
   "execution_count": 4,
   "metadata": {},
   "outputs": [
    {
     "data": {
      "text/plain": [
       "pandas.core.series.Series"
      ]
     },
     "execution_count": 4,
     "metadata": {},
     "output_type": "execute_result"
    }
   ],
   "source": [
    "type(df['author_name'])"
   ]
  },
  {
   "cell_type": "code",
   "execution_count": 5,
   "metadata": {},
   "outputs": [
    {
     "data": {
      "text/html": [
       "<div>\n",
       "<style scoped>\n",
       "    .dataframe tbody tr th:only-of-type {\n",
       "        vertical-align: middle;\n",
       "    }\n",
       "\n",
       "    .dataframe tbody tr th {\n",
       "        vertical-align: top;\n",
       "    }\n",
       "\n",
       "    .dataframe thead th {\n",
       "        text-align: right;\n",
       "    }\n",
       "</style>\n",
       "<table border=\"1\" class=\"dataframe\">\n",
       "  <thead>\n",
       "    <tr style=\"text-align: right;\">\n",
       "      <th></th>\n",
       "      <th>author_id</th>\n",
       "      <th>author_name</th>\n",
       "    </tr>\n",
       "  </thead>\n",
       "  <tbody>\n",
       "    <tr>\n",
       "      <th>0</th>\n",
       "      <td>9561</td>\n",
       "      <td>NaN</td>\n",
       "    </tr>\n",
       "    <tr>\n",
       "      <th>1</th>\n",
       "      <td>451324</td>\n",
       "      <td>House Press</td>\n",
       "    </tr>\n",
       "    <tr>\n",
       "      <th>2</th>\n",
       "      <td>454250</td>\n",
       "      <td>Petal Press</td>\n",
       "    </tr>\n",
       "    <tr>\n",
       "      <th>3</th>\n",
       "      <td>249724</td>\n",
       "      <td>GARCIA MIGUELE</td>\n",
       "    </tr>\n",
       "    <tr>\n",
       "      <th>4</th>\n",
       "      <td>287710</td>\n",
       "      <td>Worldlcass Media</td>\n",
       "    </tr>\n",
       "    <tr>\n",
       "      <th>...</th>\n",
       "      <td>...</td>\n",
       "      <td>...</td>\n",
       "    </tr>\n",
       "    <tr>\n",
       "      <th>654016</th>\n",
       "      <td>237785</td>\n",
       "      <td>丘宏義</td>\n",
       "    </tr>\n",
       "    <tr>\n",
       "      <th>654017</th>\n",
       "      <td>77701</td>\n",
       "      <td>國立彰化師範大學</td>\n",
       "    </tr>\n",
       "    <tr>\n",
       "      <th>654018</th>\n",
       "      <td>410709</td>\n",
       "      <td>張成秋</td>\n",
       "    </tr>\n",
       "    <tr>\n",
       "      <th>654019</th>\n",
       "      <td>618322</td>\n",
       "      <td>灰雁</td>\n",
       "    </tr>\n",
       "    <tr>\n",
       "      <th>654020</th>\n",
       "      <td>373580</td>\n",
       "      <td>菊子</td>\n",
       "    </tr>\n",
       "  </tbody>\n",
       "</table>\n",
       "<p>654021 rows × 2 columns</p>\n",
       "</div>"
      ],
      "text/plain": [
       "        author_id       author_name\n",
       "0            9561               NaN\n",
       "1          451324       House Press\n",
       "2          454250       Petal Press\n",
       "3          249724    GARCIA MIGUELE\n",
       "4          287710  Worldlcass Media\n",
       "...           ...               ...\n",
       "654016     237785               丘宏義\n",
       "654017      77701          國立彰化師範大學\n",
       "654018     410709               張成秋\n",
       "654019     618322                灰雁\n",
       "654020     373580                菊子\n",
       "\n",
       "[654021 rows x 2 columns]"
      ]
     },
     "execution_count": 5,
     "metadata": {},
     "output_type": "execute_result"
    }
   ],
   "source": [
    "from clean_data_utils import strip_data\n",
    "\n",
    "clean = strip_data(df['author_name'])\n",
    "df['author_name'] = clean\n",
    "df"
   ]
  },
  {
   "cell_type": "markdown",
   "metadata": {},
   "source": [
    "DUPLICATES AFTER DATA CLEANING"
   ]
  },
  {
   "cell_type": "code",
   "execution_count": 6,
   "metadata": {},
   "outputs": [
    {
     "data": {
      "text/plain": [
       "234"
      ]
     },
     "execution_count": 6,
     "metadata": {},
     "output_type": "execute_result"
    }
   ],
   "source": [
    "from duplicates_utils import number_of_duplicates\n",
    "number_of_duplicates(df['author_name'])"
   ]
  },
  {
   "cell_type": "markdown",
   "metadata": {},
   "source": [
    "EXPORT DAT"
   ]
  },
  {
   "cell_type": "code",
   "execution_count": 7,
   "metadata": {},
   "outputs": [],
   "source": [
    "file_name = \"authors_cleaned.csv\"\n",
    "folder_path = \"../../dataset/cleaned\"\n",
    "final_path = os.path.join(folder_path, file_name)\n",
    "df.to_csv(final_path, index=False)"
   ]
  }
 ],
 "metadata": {
  "kernelspec": {
   "display_name": "library_analysis",
   "language": "python",
   "name": "python3"
  },
  "language_info": {
   "codemirror_mode": {
    "name": "ipython",
    "version": 3
   },
   "file_extension": ".py",
   "mimetype": "text/x-python",
   "name": "python",
   "nbconvert_exporter": "python",
   "pygments_lexer": "ipython3",
   "version": "3.11.9"
  }
 },
 "nbformat": 4,
 "nbformat_minor": 2
}
